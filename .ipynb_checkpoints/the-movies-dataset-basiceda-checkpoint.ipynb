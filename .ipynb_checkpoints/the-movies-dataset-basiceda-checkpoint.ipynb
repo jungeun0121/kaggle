{
 "cells": [
  {
   "cell_type": "code",
   "execution_count": 1,
   "metadata": {
    "_cell_guid": "b1076dfc-b9ad-4769-8c92-a6c4dae69d19",
    "_uuid": "8f2839f25d086af736a60e9eeb907d3b93b6e0e5"
   },
   "outputs": [
    {
     "name": "stdout",
     "output_type": "stream",
     "text": [
      "/kaggle/input/the-movies-dataset/ratings.csv\n",
      "/kaggle/input/the-movies-dataset/links_small.csv\n",
      "/kaggle/input/the-movies-dataset/credits.csv\n",
      "/kaggle/input/the-movies-dataset/keywords.csv\n",
      "/kaggle/input/the-movies-dataset/movies_metadata.csv\n",
      "/kaggle/input/the-movies-dataset/ratings_small.csv\n",
      "/kaggle/input/the-movies-dataset/links.csv\n"
     ]
    }
   ],
   "source": [
    "# This Python 3 environment comes with many helpful analytics libraries installed\n",
    "# It is defined by the kaggle/python Docker image: https://github.com/kaggle/docker-python\n",
    "# For example, here's several helpful packages to load\n",
    "\n",
    "import numpy as np # linear algebra\n",
    "import pandas as pd # data processing, CSV file I/O (e.g. pd.read_csv)\n",
    "\n",
    "# Input data files are available in the read-only \"../input/\" directory\n",
    "# For example, running this (by clicking run or pressing Shift+Enter) will list all files under the input directory\n",
    "\n",
    "import os\n",
    "for dirname, _, filenames in os.walk('/kaggle/input'):\n",
    "    for filename in filenames:\n",
    "        print(os.path.join(dirname, filename))\n",
    "\n",
    "# You can write up to 20GB to the current directory (/kaggle/working/) that gets preserved as output when you create a version using \"Save & Run All\" \n",
    "# You can also write temporary files to /kaggle/temp/, but they won't be saved outside of the current session"
   ]
  },
  {
   "cell_type": "code",
   "execution_count": 2,
   "metadata": {},
   "outputs": [
    {
     "name": "stdout",
     "output_type": "stream",
     "text": [
      "/kaggle/working\r\n"
     ]
    }
   ],
   "source": [
    "!pwd"
   ]
  },
  {
   "cell_type": "code",
   "execution_count": 18,
   "metadata": {},
   "outputs": [
    {
     "name": "stdout",
     "output_type": "stream",
     "text": [
      "The file : credits.csv has : b'45477' rows\n",
      "The file : keywords.csv has : b'46420' rows\n",
      "The file : links.csv has : b'45844' rows\n",
      "The file : links_small.csv has : b'9126' rows\n",
      "The file : movies_metadata.csv has : b'45572' rows\n",
      "The file : ratings.csv has : b'26024290' rows\n",
      "The file : ratings_small.csv has : b'100005' rows\n",
      "The file :  has : b'0' rows\n"
     ]
    }
   ],
   "source": [
    "from subprocess import check_output\n",
    "import subprocess\n",
    "\n",
    "files = check_output(['ls','../input/the-movies-dataset']).decode('utf8')\n",
    "# files\n",
    "for file in files.split(\"\\n\"):\n",
    "#     print(file)\n",
    "    path='../input/the-movies-dataset/'+ file\n",
    "    popenobj=subprocess.Popen(['wc', '-l', path], stdout=subprocess.PIPE, stderr=subprocess.PIPE)\n",
    "#     print(popenobj)\n",
    "    result,error= popenobj.communicate()\n",
    "    print(\"The file :\",file,\"has :\",result.strip().split()[0],\"rows\")"
   ]
  },
  {
   "cell_type": "code",
   "execution_count": 20,
   "metadata": {},
   "outputs": [
    {
     "name": "stdout",
     "output_type": "stream",
     "text": [
      "*** df 생성 완료 ***\n"
     ]
    }
   ],
   "source": [
    "ratings = pd.read_csv('/kaggle/input/the-movies-dataset/ratings.csv')\n",
    "links_small = pd.read_csv('/kaggle/input/the-movies-dataset/links_small.csv')\n",
    "credits = pd.read_csv('/kaggle/input/the-movies-dataset/credits.csv')\n",
    "keywords = pd.read_csv('/kaggle/input/the-movies-dataset/keywords.csv')\n",
    "movies_metadata = pd.read_csv('/kaggle/input/the-movies-dataset/movies_metadata.csv')\n",
    "ratings_small = pd.read_csv('/kaggle/input/the-movies-dataset/ratings_small.csv')\n",
    "links = pd.read_csv('/kaggle/input/the-movies-dataset/links.csv')\n",
    "\n",
    "print('*** df 생성 완료 ***')"
   ]
  },
  {
   "cell_type": "code",
   "execution_count": 23,
   "metadata": {},
   "outputs": [
    {
     "name": "stdout",
     "output_type": "stream",
     "text": [
      "ratings dataset uses  794.1983947753906  MB\n"
     ]
    },
    {
     "data": {
      "text/html": [
       "<div>\n",
       "<style scoped>\n",
       "    .dataframe tbody tr th:only-of-type {\n",
       "        vertical-align: middle;\n",
       "    }\n",
       "\n",
       "    .dataframe tbody tr th {\n",
       "        vertical-align: top;\n",
       "    }\n",
       "\n",
       "    .dataframe thead th {\n",
       "        text-align: right;\n",
       "    }\n",
       "</style>\n",
       "<table border=\"1\" class=\"dataframe\">\n",
       "  <thead>\n",
       "    <tr style=\"text-align: right;\">\n",
       "      <th></th>\n",
       "      <th>userId</th>\n",
       "      <th>movieId</th>\n",
       "      <th>rating</th>\n",
       "      <th>timestamp</th>\n",
       "    </tr>\n",
       "  </thead>\n",
       "  <tbody>\n",
       "    <tr>\n",
       "      <th>0</th>\n",
       "      <td>1</td>\n",
       "      <td>110</td>\n",
       "      <td>1.0</td>\n",
       "      <td>1425941529</td>\n",
       "    </tr>\n",
       "    <tr>\n",
       "      <th>1</th>\n",
       "      <td>1</td>\n",
       "      <td>147</td>\n",
       "      <td>4.5</td>\n",
       "      <td>1425942435</td>\n",
       "    </tr>\n",
       "    <tr>\n",
       "      <th>2</th>\n",
       "      <td>1</td>\n",
       "      <td>858</td>\n",
       "      <td>5.0</td>\n",
       "      <td>1425941523</td>\n",
       "    </tr>\n",
       "    <tr>\n",
       "      <th>3</th>\n",
       "      <td>1</td>\n",
       "      <td>1221</td>\n",
       "      <td>5.0</td>\n",
       "      <td>1425941546</td>\n",
       "    </tr>\n",
       "    <tr>\n",
       "      <th>4</th>\n",
       "      <td>1</td>\n",
       "      <td>1246</td>\n",
       "      <td>5.0</td>\n",
       "      <td>1425941556</td>\n",
       "    </tr>\n",
       "  </tbody>\n",
       "</table>\n",
       "</div>"
      ],
      "text/plain": [
       "   userId  movieId  rating   timestamp\n",
       "0       1      110     1.0  1425941529\n",
       "1       1      147     4.5  1425942435\n",
       "2       1      858     5.0  1425941523\n",
       "3       1     1221     5.0  1425941546\n",
       "4       1     1246     5.0  1425941556"
      ]
     },
     "execution_count": 23,
     "metadata": {},
     "output_type": "execute_result"
    }
   ],
   "source": [
    "# rationgs file memory check\n",
    "\n",
    "mem_ratings = ratings.memory_usage(index=True).sum()\n",
    "print(\"ratings dataset uses \", mem_ratings/ 1024**2,\" MB\")\n",
    "ratings.head()"
   ]
  },
  {
   "cell_type": "code",
   "execution_count": 26,
   "metadata": {},
   "outputs": [
    {
     "name": "stdout",
     "output_type": "stream",
     "text": [
      "userId       2.708960e+05\n",
      "movieId      1.762750e+05\n",
      "rating       5.000000e+00\n",
      "timestamp    1.501830e+09\n",
      "dtype: float64\n",
      "--------------------\n",
      "userId               1.0\n",
      "movieId              1.0\n",
      "rating               0.5\n",
      "timestamp    789652004.0\n",
      "dtype: float64\n",
      "--------------------\n",
      "userId         int64\n",
      "movieId        int64\n",
      "rating       float64\n",
      "timestamp      int64\n",
      "dtype: object\n"
     ]
    }
   ],
   "source": [
    "print(ratings.max())\n",
    "print(\"--------------------\")\n",
    "print(ratings.min())\n",
    "print(\"--------------------\")\n",
    "print(ratings.dtypes)"
   ]
  },
  {
   "cell_type": "code",
   "execution_count": 28,
   "metadata": {},
   "outputs": [
    {
     "name": "stdout",
     "output_type": "stream",
     "text": [
      "270896\n",
      "176275\n",
      "1501829870\n"
     ]
    }
   ],
   "source": [
    "print(ratings.userId.max())\n",
    "print(ratings.movieId.max())\n",
    "print(ratings.timestamp.max())"
   ]
  },
  {
   "cell_type": "code",
   "execution_count": null,
   "metadata": {},
   "outputs": [],
   "source": [
    "ratings['userId'] = ratings['userId'].astype(np.uint32)\n",
    "ratings['movieId'] = ratings['movieId'].astype(np.uint32)\n",
    "ratings['rating'] = ratings['rating'].astype(np.float16)\n",
    "ratings['timestamp'] = ratings['timestamp'].astype(np.uint32)\n",
    "\n",
    "#check memory\n",
    "print(ratings.memory_usage(index=True))\n",
    "new_mem_ratings=ratings.memory_usage(index=True).sum()\n",
    "print(\"ratings dataset uses \",new_mem_ratings/ 1024**2,\" MB after changes\")\n",
    "print(\"memory saved =\",(mem_ratings-new_mem_ratings)/ 1024**2,\" MB\")"
   ]
  },
  {
   "cell_type": "code",
   "execution_count": null,
   "metadata": {},
   "outputs": [],
   "source": [
    "# read other files\n",
    "# it will be changed\n",
    "#######"
   ]
  }
 ],
 "metadata": {
  "kernelspec": {
   "display_name": "Python 3",
   "language": "python",
   "name": "python3"
  },
  "language_info": {
   "codemirror_mode": {
    "name": "ipython",
    "version": 3
   },
   "file_extension": ".py",
   "mimetype": "text/x-python",
   "name": "python",
   "nbconvert_exporter": "python",
   "pygments_lexer": "ipython3",
   "version": "3.7.3"
  }
 },
 "nbformat": 4,
 "nbformat_minor": 4
}
